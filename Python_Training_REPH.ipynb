{
  "nbformat": 4,
  "nbformat_minor": 0,
  "metadata": {
    "colab": {
      "provenance": [],
      "authorship_tag": "ABX9TyMRgR1f8AdfZieaKNxGefkp",
      "include_colab_link": true
    },
    "kernelspec": {
      "name": "python3",
      "display_name": "Python 3"
    },
    "language_info": {
      "name": "python"
    }
  },
  "cells": [
    {
      "cell_type": "markdown",
      "metadata": {
        "id": "view-in-github",
        "colab_type": "text"
      },
      "source": [
        "<a href=\"https://colab.research.google.com/github/cutepotato24/REPH-Python-Training/blob/main/Python_Training_REPH.ipynb\" target=\"_parent\"><img src=\"https://colab.research.google.com/assets/colab-badge.svg\" alt=\"Open In Colab\"/></a>"
      ]
    },
    {
      "cell_type": "markdown",
      "metadata": {
        "id": "4f0aad11"
      },
      "source": [
        "# Introduction to Python\n",
        "\n",
        "## What is Python?\n",
        "\n",
        "- High-level, interpreted programming language\n",
        "- Popular for its readability and wide range of applications\n",
        "\n",
        "## Why Use Python for Data Analysis?\n",
        "\n",
        "- Easy syntax\n",
        "- Large ecosystem (numpy, pandas, matplotlib, etc.)\n",
        "\n",
        "\n",
        "<br>\n",
        "<br>\n",
        "Here's a resource that explains how Python is used in conjunction with Markdown:\n",
        "\n",
        "[Using Markdown with Python](https://jupyter-notebook.readthedocs.io/en/stable/notebook.html#markdown-cells/)"
      ]
    },
    {
      "cell_type": "markdown",
      "source": [
        "#Python Basics"
      ],
      "metadata": {
        "id": "fcVRaPmd-rbm"
      }
    },
    {
      "cell_type": "markdown",
      "source": [
        "##0.Basic Input and Output"
      ],
      "metadata": {
        "id": "B_sadNfCOVd_"
      }
    },
    {
      "cell_type": "markdown",
      "source": [
        "Output: Displaying data to the user. Using print() function"
      ],
      "metadata": {
        "id": "LCezBe-0Ohxv"
      }
    },
    {
      "cell_type": "code",
      "source": [
        "print(\"Python for Data Analysis\")"
      ],
      "metadata": {
        "id": "p51Qag94OwF8"
      },
      "execution_count": null,
      "outputs": []
    },
    {
      "cell_type": "markdown",
      "source": [
        "Input: Getting data from the user. Using input() function"
      ],
      "metadata": {
        "id": "xoV6SfGzO43b"
      }
    },
    {
      "cell_type": "code",
      "source": [
        "name = input(\"Enter you name: \")\n",
        "print(\"Hello,\", name)"
      ],
      "metadata": {
        "id": "X1wrn8s5O9eL"
      },
      "execution_count": null,
      "outputs": []
    },
    {
      "cell_type": "markdown",
      "source": [
        "##1. Syntax and Variables\n",
        "\n",
        "###Syntax:\n",
        "The set of rules that defines the combinations of symbols that are considered to be correctly structured Python programs.\n",
        "<br>\n",
        "<br>\n",
        "\n",
        "###Variable:\n",
        "A variable is a name that refers to a value stored in the computer’s memory. Variables allow you to store, retrieve, and manipulate data in your program.\n"
      ],
      "metadata": {
        "id": "sV0kH-My-7bY"
      }
    },
    {
      "cell_type": "code",
      "source": [
        "# This is a comment\n",
        "# In Python, Variable's Data type is automatically recognized, no need to declare\n",
        "\n",
        "age = 5 ## This is stored as a number\n",
        "first_name = \"Alice\" ## This is stored as a text\n",
        "last_name = input(\"Input Last Nmame from User: \")  ##input is always stored as a test\n",
        "\n",
        "\n",
        "print(\"Her name is \",first_name,\" \", last_name)\n",
        "print(\"She is \",age,\" years old\")"
      ],
      "metadata": {
        "id": "UgUonq6P7D6J"
      },
      "execution_count": null,
      "outputs": []
    },
    {
      "cell_type": "markdown",
      "source": [
        "##2. Data Types:\n",
        "The classification of data items. Python has several built-in data types, including:\n",
        "\n",
        "- int (integer): Whole numbers, e.g., 5\n",
        "- float: Decimal numbers, e.g., 3.14\n",
        "- str (string): Text, e.g., \"hello\"\n",
        "- bool (boolean): True or False values\n"
      ],
      "metadata": {
        "id": "ndNDQ_N7Ayws"
      }
    },
    {
      "cell_type": "code",
      "source": [
        "a = 10      # int\n",
        "b = 3.14    # float\n",
        "c = \"hello\" # str\n",
        "d = True    # bool"
      ],
      "metadata": {
        "id": "ZTAcxYgCA-oz"
      },
      "execution_count": null,
      "outputs": []
    },
    {
      "cell_type": "markdown",
      "source": [
        "##3. Basic Operators\n",
        "A symbol that performs an operation on one or more values (operands).\n",
        "<br>\n",
        "<br>\n",
        "###Arithmetic Operators:\n",
        "Used for mathematical calculations.\n",
        "\n",
        "- x + y   &nbsp;&nbsp; Addition\n",
        "- x - y   &nbsp;&nbsp;&nbsp;Subtraction\n",
        "- x * y   &nbsp;&nbsp;&nbsp;Multiplication\n",
        "- x / y   &nbsp;&nbsp;&nbsp;&nbsp;Division\n",
        "- ** y    &nbsp;&nbsp;&nbsp;&nbsp;&nbsp;Exponentiation\n",
        "- x % y   &nbsp;&nbsp;&nbsp;Modulus (remainder)\n"
      ],
      "metadata": {
        "id": "J7hKZUxTCJ8Q"
      }
    },
    {
      "cell_type": "code",
      "source": [
        "x = 5\n",
        "y = 10\n",
        "\n",
        "a = x + y\n",
        "\n",
        "print(a)\n",
        "print(x + y)"
      ],
      "metadata": {
        "id": "vKL62QehCMF_"
      },
      "execution_count": null,
      "outputs": []
    },
    {
      "cell_type": "markdown",
      "source": [
        "###Comparison Operators:\n",
        "Compare two values and return a boolean result."
      ],
      "metadata": {
        "id": "gUM86PQ5CWU6"
      }
    },
    {
      "cell_type": "markdown",
      "source": [
        "- x == y  # Equal to\n",
        "- x != y  # Not equal to\n",
        "- x > y   # Greater than\n",
        "- x < y   # Less than"
      ],
      "metadata": {
        "id": "txKAy98oXVBk"
      }
    },
    {
      "cell_type": "code",
      "source": [
        "x = 5\n",
        "y = 10\n",
        "z = 5\n",
        "\n",
        "print(x == y)\n",
        "print(x == z)"
      ],
      "metadata": {
        "id": "fdRt6qiEXedM"
      },
      "execution_count": null,
      "outputs": []
    },
    {
      "cell_type": "markdown",
      "source": [
        "###Logical Operators:\n",
        "Combine boolean values.\n",
        "\n",
        " - x AND y\n",
        "- x OR y\n",
        "- NOT x"
      ],
      "metadata": {
        "id": "rqKPHG4kLhu4"
      }
    },
    {
      "cell_type": "code",
      "source": [
        "x = 5\n",
        "y = 25\n",
        "\n",
        "if x > 0 and y < 20:\n",
        "    print(\"x is positive and y is less than 20\")\n",
        "else:\n",
        "    print(\"Condition not satisfied\")\n"
      ],
      "metadata": {
        "id": "OnYfCdpSYPI5"
      },
      "execution_count": null,
      "outputs": []
    },
    {
      "cell_type": "markdown",
      "source": [
        "##4. Data Structures\n",
        "\n",
        "A way of organizing and storing data so it can be accessed and modified efficiently."
      ],
      "metadata": {
        "id": "SvI6Tuc4L4FQ"
      }
    },
    {
      "cell_type": "markdown",
      "source": [
        "List: An ordered, mutable collection of items."
      ],
      "metadata": {
        "id": "x1rT2VsdL_OW"
      }
    },
    {
      "cell_type": "code",
      "source": [
        "fruits = [\"apple\", \"banana\", \"cherry\"]"
      ],
      "metadata": {
        "id": "bdG0fUU8MBgb"
      },
      "execution_count": null,
      "outputs": []
    },
    {
      "cell_type": "markdown",
      "source": [
        "Tuple: An ordered, immutable collection of items."
      ],
      "metadata": {
        "id": "-eS_WqHJML45"
      }
    },
    {
      "cell_type": "code",
      "source": [
        "point = (3, 4)"
      ],
      "metadata": {
        "id": "gd8eMvDeMN6z"
      },
      "execution_count": null,
      "outputs": []
    },
    {
      "cell_type": "markdown",
      "source": [
        "Set: An unordered collection of unique items."
      ],
      "metadata": {
        "id": "QRj_MZDnMmeO"
      }
    },
    {
      "cell_type": "code",
      "source": [
        "unique_numbers = {1, 2, 3}"
      ],
      "metadata": {
        "id": "SOgbPi0UMn_q"
      },
      "execution_count": null,
      "outputs": []
    },
    {
      "cell_type": "markdown",
      "source": [
        "Dictionary: An unordered collection of key-value pairs.\n"
      ],
      "metadata": {
        "id": "PC-eoNm4MEYW"
      }
    },
    {
      "cell_type": "code",
      "source": [
        "person = {\"name\": \"Alice\", \"age\": 25}"
      ],
      "metadata": {
        "id": "J-dgiqxtMd_R"
      },
      "execution_count": null,
      "outputs": []
    },
    {
      "cell_type": "markdown",
      "source": [
        "##5. Control Flow\n",
        "\n",
        "The order in which individual statements, instructions, or function calls are executed or evaluated."
      ],
      "metadata": {
        "id": "HsQdSjbOPz20"
      }
    },
    {
      "cell_type": "markdown",
      "source": [
        "### IF Statement:  \n",
        "Allows you to execute code only if a certain condition is true."
      ],
      "metadata": {
        "id": "yqw0QwVpP268"
      }
    },
    {
      "cell_type": "code",
      "source": [
        "# Example of an IF statement\n",
        "age = 13\n",
        "\n",
        "if age >= 18:\n",
        "    print(\"You are an adult.\")\n",
        "else:\n",
        "    print(\"You are a minor.\")"
      ],
      "metadata": {
        "id": "FWQbC9hcQCck"
      },
      "execution_count": null,
      "outputs": []
    },
    {
      "cell_type": "markdown",
      "source": [
        "###For Loop:\n",
        "Used to iterate over a sequence (such as a list, tuple, or string)."
      ],
      "metadata": {
        "id": "cJ6OehnSY6no"
      }
    },
    {
      "cell_type": "code",
      "source": [
        "fruits = [\"apple\", \"banana\", \"cherry\"]\n",
        "\n",
        "for fruit in fruits:\n",
        "    print(fruit)"
      ],
      "metadata": {
        "id": "dr6HqNsGZCLP"
      },
      "execution_count": null,
      "outputs": []
    },
    {
      "cell_type": "markdown",
      "source": [
        "###While Loop:\n",
        "Repeats a block of code as long as a condition is true."
      ],
      "metadata": {
        "id": "LnVSTtJsZac8"
      }
    },
    {
      "cell_type": "code",
      "source": [
        "count = 0\n",
        "while count < 5:\n",
        "    print(count)\n",
        "    count += 1"
      ],
      "metadata": {
        "id": "vD8_8FVAZc01"
      },
      "execution_count": null,
      "outputs": []
    },
    {
      "cell_type": "markdown",
      "source": [
        "###"
      ],
      "metadata": {
        "id": "YJlB9v77ZSu5"
      }
    },
    {
      "cell_type": "markdown",
      "source": [
        "##6. Function:\n",
        "A block of reusable code that performs a specific task. Functions help organize code and avoid repetition.\n",
        "\n",
        "Return Statement:\n",
        "<br>\n",
        "Used to send a result back from a function to the caller."
      ],
      "metadata": {
        "id": "Bp6vLN4qZybg"
      }
    },
    {
      "cell_type": "code",
      "source": [
        "def greet(name):\n",
        "    print(\"Hello, \" + name)\n",
        "greet(\"Alice\")"
      ],
      "metadata": {
        "id": "oKQXnz5MZ3uJ"
      },
      "execution_count": null,
      "outputs": []
    },
    {
      "cell_type": "code",
      "source": [
        "def add_numbers(a, b):\n",
        "    return a + b\n",
        "\n",
        "# Example usage:\n",
        "result = add_numbers(5, 3)\n",
        "print(\"The sum is:\", result)"
      ],
      "metadata": {
        "id": "B-VAr1sdaCAb"
      },
      "execution_count": null,
      "outputs": []
    },
    {
      "cell_type": "code",
      "source": [
        "# Define a simple function\n",
        "def square(number):\n",
        "  return number * number\n",
        "\n",
        "# Use a for loop to call the function for each item in a list\n",
        "numbers = [1, 2, 3, 4, 5]\n",
        "for num in numbers:\n",
        "  squared_num = square(num)\n",
        "  print(f\"The square of {num} is {squared_num}\")"
      ],
      "metadata": {
        "id": "GFrR27lHa4Kh"
      },
      "execution_count": null,
      "outputs": []
    },
    {
      "cell_type": "markdown",
      "source": [
        "##7. Methods\n",
        "\n",
        "A method is a function that \"belongs to\" an object and can access or modify the object's data.\n",
        "\n",
        "Function:\n",
        "Standalone, not tied to a specific object.<br>\n",
        "Example: len(text)\n",
        "<br><br>\n",
        "Method:\n",
        "Belongs to an object and is called on that object.<br>\n",
        "Example: text.upper()"
      ],
      "metadata": {
        "id": "sXbHQM10S9_w"
      }
    },
    {
      "cell_type": "code",
      "source": [
        "text = \"hello\"\n",
        "print(text.upper())"
      ],
      "metadata": {
        "id": "L2JC8JtsTI8H"
      },
      "execution_count": null,
      "outputs": []
    },
    {
      "cell_type": "markdown",
      "source": [
        "###Some of useful methods for object manipulation"
      ],
      "metadata": {
        "id": "cr-xi6ROTNWo"
      }
    },
    {
      "cell_type": "code",
      "source": [
        "###STRING METHODS###\n",
        "\n",
        "s = \"  Data Science!  \"\n",
        "print(s.strip())      # Removes whitespace: 'Data Science!'\n",
        "print(s.lower())      # '  data science!  '\n",
        "print(s.replace(\"!\", \"?\"))  # '  Data Science?  '\n",
        "\n",
        "print(s.strip().lower())"
      ],
      "metadata": {
        "id": "-IVWaYcnTd_z"
      },
      "execution_count": null,
      "outputs": []
    },
    {
      "cell_type": "code",
      "source": [
        "###LIST METHODS###\n",
        "\n",
        "\n",
        "lst = [1, 2, 3]\n",
        "lst.append(4)         # Adds 4 to the end of the list\n",
        "print(lst)            # [1, 2, 3, 4]\n",
        "lst.remove(2)         # Removes the value 2\n",
        "print(lst)            # [1, 3, 4]"
      ],
      "metadata": {
        "id": "oQU5eY66T7yK"
      },
      "execution_count": null,
      "outputs": []
    },
    {
      "cell_type": "code",
      "source": [
        "###SERIES/ DATAFRAME METHODS###\n",
        "\n",
        "\n",
        "import pandas as pd\n",
        "df = pd.DataFrame({'A': [1, 2, 2, 3]})\n",
        "df = df.drop_duplicates()  # Removes duplicate rows\n",
        "print(df)"
      ],
      "metadata": {
        "id": "P9sbxEgLTVUZ"
      },
      "execution_count": null,
      "outputs": []
    },
    {
      "cell_type": "markdown",
      "source": [
        "##7. Importing Modules\n",
        "###Module:\n",
        "A file containing Python code (functions, classes, variables) that can be imported and used in other programs.\n",
        "\n",
        "###Import Statement:\n",
        "Used to bring modules and their functions into your program."
      ],
      "metadata": {
        "id": "uB2vsx65cPZo"
      }
    },
    {
      "cell_type": "code",
      "source": [
        "\n",
        "import math\n",
        "import numpy as np\n",
        "\n",
        "print(math.sqrt(16))\n",
        "print(np.sum([1,2,3,4,5]))\n"
      ],
      "metadata": {
        "id": "r7XVyGXzcfap"
      },
      "execution_count": null,
      "outputs": []
    },
    {
      "cell_type": "markdown",
      "source": [
        "# Python for Data Cleaning and Data Analysis"
      ],
      "metadata": {
        "id": "QjK7MGLldB5S"
      }
    },
    {
      "cell_type": "markdown",
      "source": [
        "##Importing and Exploring your data sets"
      ],
      "metadata": {
        "id": "6WzVgbYBdGis"
      }
    },
    {
      "cell_type": "code",
      "source": [
        "import pandas as pd\n",
        "\n",
        "# Import dataset\n",
        "url = \"https://raw.githubusercontent.com/datasciencedojo/datasets/master/titanic.csv\"\n",
        "df = pd.read_csv(url)\n",
        "df.head(5)\n",
        "# Explore the data\n",
        "#print(df.head())\n"
      ],
      "metadata": {
        "collapsed": true,
        "id": "PPTWEOn_ejYB",
        "colab": {
          "base_uri": "https://localhost:8080/",
          "height": 206
        },
        "outputId": "dd92323f-12ce-477e-a1ec-c6ef1fbbe2db"
      },
      "execution_count": 1,
      "outputs": [
        {
          "output_type": "execute_result",
          "data": {
            "text/plain": [
              "   PassengerId  Survived  Pclass  \\\n",
              "0            1         0       3   \n",
              "1            2         1       1   \n",
              "2            3         1       3   \n",
              "3            4         1       1   \n",
              "4            5         0       3   \n",
              "\n",
              "                                                Name     Sex   Age  SibSp  \\\n",
              "0                            Braund, Mr. Owen Harris    male  22.0      1   \n",
              "1  Cumings, Mrs. John Bradley (Florence Briggs Th...  female  38.0      1   \n",
              "2                             Heikkinen, Miss. Laina  female  26.0      0   \n",
              "3       Futrelle, Mrs. Jacques Heath (Lily May Peel)  female  35.0      1   \n",
              "4                           Allen, Mr. William Henry    male  35.0      0   \n",
              "\n",
              "   Parch            Ticket     Fare Cabin Embarked  \n",
              "0      0         A/5 21171   7.2500   NaN        S  \n",
              "1      0          PC 17599  71.2833   C85        C  \n",
              "2      0  STON/O2. 3101282   7.9250   NaN        S  \n",
              "3      0            113803  53.1000  C123        S  \n",
              "4      0            373450   8.0500   NaN        S  "
            ],
            "text/html": [
              "\n",
              "  <div id=\"df-11b2bbbd-e48e-4fbb-baa6-ef226276b055\" class=\"colab-df-container\">\n",
              "    <div>\n",
              "<style scoped>\n",
              "    .dataframe tbody tr th:only-of-type {\n",
              "        vertical-align: middle;\n",
              "    }\n",
              "\n",
              "    .dataframe tbody tr th {\n",
              "        vertical-align: top;\n",
              "    }\n",
              "\n",
              "    .dataframe thead th {\n",
              "        text-align: right;\n",
              "    }\n",
              "</style>\n",
              "<table border=\"1\" class=\"dataframe\">\n",
              "  <thead>\n",
              "    <tr style=\"text-align: right;\">\n",
              "      <th></th>\n",
              "      <th>PassengerId</th>\n",
              "      <th>Survived</th>\n",
              "      <th>Pclass</th>\n",
              "      <th>Name</th>\n",
              "      <th>Sex</th>\n",
              "      <th>Age</th>\n",
              "      <th>SibSp</th>\n",
              "      <th>Parch</th>\n",
              "      <th>Ticket</th>\n",
              "      <th>Fare</th>\n",
              "      <th>Cabin</th>\n",
              "      <th>Embarked</th>\n",
              "    </tr>\n",
              "  </thead>\n",
              "  <tbody>\n",
              "    <tr>\n",
              "      <th>0</th>\n",
              "      <td>1</td>\n",
              "      <td>0</td>\n",
              "      <td>3</td>\n",
              "      <td>Braund, Mr. Owen Harris</td>\n",
              "      <td>male</td>\n",
              "      <td>22.0</td>\n",
              "      <td>1</td>\n",
              "      <td>0</td>\n",
              "      <td>A/5 21171</td>\n",
              "      <td>7.2500</td>\n",
              "      <td>NaN</td>\n",
              "      <td>S</td>\n",
              "    </tr>\n",
              "    <tr>\n",
              "      <th>1</th>\n",
              "      <td>2</td>\n",
              "      <td>1</td>\n",
              "      <td>1</td>\n",
              "      <td>Cumings, Mrs. John Bradley (Florence Briggs Th...</td>\n",
              "      <td>female</td>\n",
              "      <td>38.0</td>\n",
              "      <td>1</td>\n",
              "      <td>0</td>\n",
              "      <td>PC 17599</td>\n",
              "      <td>71.2833</td>\n",
              "      <td>C85</td>\n",
              "      <td>C</td>\n",
              "    </tr>\n",
              "    <tr>\n",
              "      <th>2</th>\n",
              "      <td>3</td>\n",
              "      <td>1</td>\n",
              "      <td>3</td>\n",
              "      <td>Heikkinen, Miss. Laina</td>\n",
              "      <td>female</td>\n",
              "      <td>26.0</td>\n",
              "      <td>0</td>\n",
              "      <td>0</td>\n",
              "      <td>STON/O2. 3101282</td>\n",
              "      <td>7.9250</td>\n",
              "      <td>NaN</td>\n",
              "      <td>S</td>\n",
              "    </tr>\n",
              "    <tr>\n",
              "      <th>3</th>\n",
              "      <td>4</td>\n",
              "      <td>1</td>\n",
              "      <td>1</td>\n",
              "      <td>Futrelle, Mrs. Jacques Heath (Lily May Peel)</td>\n",
              "      <td>female</td>\n",
              "      <td>35.0</td>\n",
              "      <td>1</td>\n",
              "      <td>0</td>\n",
              "      <td>113803</td>\n",
              "      <td>53.1000</td>\n",
              "      <td>C123</td>\n",
              "      <td>S</td>\n",
              "    </tr>\n",
              "    <tr>\n",
              "      <th>4</th>\n",
              "      <td>5</td>\n",
              "      <td>0</td>\n",
              "      <td>3</td>\n",
              "      <td>Allen, Mr. William Henry</td>\n",
              "      <td>male</td>\n",
              "      <td>35.0</td>\n",
              "      <td>0</td>\n",
              "      <td>0</td>\n",
              "      <td>373450</td>\n",
              "      <td>8.0500</td>\n",
              "      <td>NaN</td>\n",
              "      <td>S</td>\n",
              "    </tr>\n",
              "  </tbody>\n",
              "</table>\n",
              "</div>\n",
              "    <div class=\"colab-df-buttons\">\n",
              "\n",
              "  <div class=\"colab-df-container\">\n",
              "    <button class=\"colab-df-convert\" onclick=\"convertToInteractive('df-11b2bbbd-e48e-4fbb-baa6-ef226276b055')\"\n",
              "            title=\"Convert this dataframe to an interactive table.\"\n",
              "            style=\"display:none;\">\n",
              "\n",
              "  <svg xmlns=\"http://www.w3.org/2000/svg\" height=\"24px\" viewBox=\"0 -960 960 960\">\n",
              "    <path d=\"M120-120v-720h720v720H120Zm60-500h600v-160H180v160Zm220 220h160v-160H400v160Zm0 220h160v-160H400v160ZM180-400h160v-160H180v160Zm440 0h160v-160H620v160ZM180-180h160v-160H180v160Zm440 0h160v-160H620v160Z\"/>\n",
              "  </svg>\n",
              "    </button>\n",
              "\n",
              "  <style>\n",
              "    .colab-df-container {\n",
              "      display:flex;\n",
              "      gap: 12px;\n",
              "    }\n",
              "\n",
              "    .colab-df-convert {\n",
              "      background-color: #E8F0FE;\n",
              "      border: none;\n",
              "      border-radius: 50%;\n",
              "      cursor: pointer;\n",
              "      display: none;\n",
              "      fill: #1967D2;\n",
              "      height: 32px;\n",
              "      padding: 0 0 0 0;\n",
              "      width: 32px;\n",
              "    }\n",
              "\n",
              "    .colab-df-convert:hover {\n",
              "      background-color: #E2EBFA;\n",
              "      box-shadow: 0px 1px 2px rgba(60, 64, 67, 0.3), 0px 1px 3px 1px rgba(60, 64, 67, 0.15);\n",
              "      fill: #174EA6;\n",
              "    }\n",
              "\n",
              "    .colab-df-buttons div {\n",
              "      margin-bottom: 4px;\n",
              "    }\n",
              "\n",
              "    [theme=dark] .colab-df-convert {\n",
              "      background-color: #3B4455;\n",
              "      fill: #D2E3FC;\n",
              "    }\n",
              "\n",
              "    [theme=dark] .colab-df-convert:hover {\n",
              "      background-color: #434B5C;\n",
              "      box-shadow: 0px 1px 3px 1px rgba(0, 0, 0, 0.15);\n",
              "      filter: drop-shadow(0px 1px 2px rgba(0, 0, 0, 0.3));\n",
              "      fill: #FFFFFF;\n",
              "    }\n",
              "  </style>\n",
              "\n",
              "    <script>\n",
              "      const buttonEl =\n",
              "        document.querySelector('#df-11b2bbbd-e48e-4fbb-baa6-ef226276b055 button.colab-df-convert');\n",
              "      buttonEl.style.display =\n",
              "        google.colab.kernel.accessAllowed ? 'block' : 'none';\n",
              "\n",
              "      async function convertToInteractive(key) {\n",
              "        const element = document.querySelector('#df-11b2bbbd-e48e-4fbb-baa6-ef226276b055');\n",
              "        const dataTable =\n",
              "          await google.colab.kernel.invokeFunction('convertToInteractive',\n",
              "                                                    [key], {});\n",
              "        if (!dataTable) return;\n",
              "\n",
              "        const docLinkHtml = 'Like what you see? Visit the ' +\n",
              "          '<a target=\"_blank\" href=https://colab.research.google.com/notebooks/data_table.ipynb>data table notebook</a>'\n",
              "          + ' to learn more about interactive tables.';\n",
              "        element.innerHTML = '';\n",
              "        dataTable['output_type'] = 'display_data';\n",
              "        await google.colab.output.renderOutput(dataTable, element);\n",
              "        const docLink = document.createElement('div');\n",
              "        docLink.innerHTML = docLinkHtml;\n",
              "        element.appendChild(docLink);\n",
              "      }\n",
              "    </script>\n",
              "  </div>\n",
              "\n",
              "\n",
              "    <div id=\"df-3b65224c-c4f3-42f1-a7cb-dd1b9ab7972e\">\n",
              "      <button class=\"colab-df-quickchart\" onclick=\"quickchart('df-3b65224c-c4f3-42f1-a7cb-dd1b9ab7972e')\"\n",
              "                title=\"Suggest charts\"\n",
              "                style=\"display:none;\">\n",
              "\n",
              "<svg xmlns=\"http://www.w3.org/2000/svg\" height=\"24px\"viewBox=\"0 0 24 24\"\n",
              "     width=\"24px\">\n",
              "    <g>\n",
              "        <path d=\"M19 3H5c-1.1 0-2 .9-2 2v14c0 1.1.9 2 2 2h14c1.1 0 2-.9 2-2V5c0-1.1-.9-2-2-2zM9 17H7v-7h2v7zm4 0h-2V7h2v10zm4 0h-2v-4h2v4z\"/>\n",
              "    </g>\n",
              "</svg>\n",
              "      </button>\n",
              "\n",
              "<style>\n",
              "  .colab-df-quickchart {\n",
              "      --bg-color: #E8F0FE;\n",
              "      --fill-color: #1967D2;\n",
              "      --hover-bg-color: #E2EBFA;\n",
              "      --hover-fill-color: #174EA6;\n",
              "      --disabled-fill-color: #AAA;\n",
              "      --disabled-bg-color: #DDD;\n",
              "  }\n",
              "\n",
              "  [theme=dark] .colab-df-quickchart {\n",
              "      --bg-color: #3B4455;\n",
              "      --fill-color: #D2E3FC;\n",
              "      --hover-bg-color: #434B5C;\n",
              "      --hover-fill-color: #FFFFFF;\n",
              "      --disabled-bg-color: #3B4455;\n",
              "      --disabled-fill-color: #666;\n",
              "  }\n",
              "\n",
              "  .colab-df-quickchart {\n",
              "    background-color: var(--bg-color);\n",
              "    border: none;\n",
              "    border-radius: 50%;\n",
              "    cursor: pointer;\n",
              "    display: none;\n",
              "    fill: var(--fill-color);\n",
              "    height: 32px;\n",
              "    padding: 0;\n",
              "    width: 32px;\n",
              "  }\n",
              "\n",
              "  .colab-df-quickchart:hover {\n",
              "    background-color: var(--hover-bg-color);\n",
              "    box-shadow: 0 1px 2px rgba(60, 64, 67, 0.3), 0 1px 3px 1px rgba(60, 64, 67, 0.15);\n",
              "    fill: var(--button-hover-fill-color);\n",
              "  }\n",
              "\n",
              "  .colab-df-quickchart-complete:disabled,\n",
              "  .colab-df-quickchart-complete:disabled:hover {\n",
              "    background-color: var(--disabled-bg-color);\n",
              "    fill: var(--disabled-fill-color);\n",
              "    box-shadow: none;\n",
              "  }\n",
              "\n",
              "  .colab-df-spinner {\n",
              "    border: 2px solid var(--fill-color);\n",
              "    border-color: transparent;\n",
              "    border-bottom-color: var(--fill-color);\n",
              "    animation:\n",
              "      spin 1s steps(1) infinite;\n",
              "  }\n",
              "\n",
              "  @keyframes spin {\n",
              "    0% {\n",
              "      border-color: transparent;\n",
              "      border-bottom-color: var(--fill-color);\n",
              "      border-left-color: var(--fill-color);\n",
              "    }\n",
              "    20% {\n",
              "      border-color: transparent;\n",
              "      border-left-color: var(--fill-color);\n",
              "      border-top-color: var(--fill-color);\n",
              "    }\n",
              "    30% {\n",
              "      border-color: transparent;\n",
              "      border-left-color: var(--fill-color);\n",
              "      border-top-color: var(--fill-color);\n",
              "      border-right-color: var(--fill-color);\n",
              "    }\n",
              "    40% {\n",
              "      border-color: transparent;\n",
              "      border-right-color: var(--fill-color);\n",
              "      border-top-color: var(--fill-color);\n",
              "    }\n",
              "    60% {\n",
              "      border-color: transparent;\n",
              "      border-right-color: var(--fill-color);\n",
              "    }\n",
              "    80% {\n",
              "      border-color: transparent;\n",
              "      border-right-color: var(--fill-color);\n",
              "      border-bottom-color: var(--fill-color);\n",
              "    }\n",
              "    90% {\n",
              "      border-color: transparent;\n",
              "      border-bottom-color: var(--fill-color);\n",
              "    }\n",
              "  }\n",
              "</style>\n",
              "\n",
              "      <script>\n",
              "        async function quickchart(key) {\n",
              "          const quickchartButtonEl =\n",
              "            document.querySelector('#' + key + ' button');\n",
              "          quickchartButtonEl.disabled = true;  // To prevent multiple clicks.\n",
              "          quickchartButtonEl.classList.add('colab-df-spinner');\n",
              "          try {\n",
              "            const charts = await google.colab.kernel.invokeFunction(\n",
              "                'suggestCharts', [key], {});\n",
              "          } catch (error) {\n",
              "            console.error('Error during call to suggestCharts:', error);\n",
              "          }\n",
              "          quickchartButtonEl.classList.remove('colab-df-spinner');\n",
              "          quickchartButtonEl.classList.add('colab-df-quickchart-complete');\n",
              "        }\n",
              "        (() => {\n",
              "          let quickchartButtonEl =\n",
              "            document.querySelector('#df-3b65224c-c4f3-42f1-a7cb-dd1b9ab7972e button');\n",
              "          quickchartButtonEl.style.display =\n",
              "            google.colab.kernel.accessAllowed ? 'block' : 'none';\n",
              "        })();\n",
              "      </script>\n",
              "    </div>\n",
              "\n",
              "    </div>\n",
              "  </div>\n"
            ],
            "application/vnd.google.colaboratory.intrinsic+json": {
              "type": "dataframe",
              "summary": "{\n  \"name\": \"#print(df\",\n  \"rows\": 5,\n  \"fields\": [\n    {\n      \"column\": \"PassengerId\",\n      \"properties\": {\n        \"dtype\": \"number\",\n        \"std\": 1,\n        \"min\": 1,\n        \"max\": 5,\n        \"num_unique_values\": 5,\n        \"samples\": [\n          2,\n          5,\n          3\n        ],\n        \"semantic_type\": \"\",\n        \"description\": \"\"\n      }\n    },\n    {\n      \"column\": \"Survived\",\n      \"properties\": {\n        \"dtype\": \"number\",\n        \"std\": 0,\n        \"min\": 0,\n        \"max\": 1,\n        \"num_unique_values\": 2,\n        \"samples\": [\n          1,\n          0\n        ],\n        \"semantic_type\": \"\",\n        \"description\": \"\"\n      }\n    },\n    {\n      \"column\": \"Pclass\",\n      \"properties\": {\n        \"dtype\": \"number\",\n        \"std\": 1,\n        \"min\": 1,\n        \"max\": 3,\n        \"num_unique_values\": 2,\n        \"samples\": [\n          1,\n          3\n        ],\n        \"semantic_type\": \"\",\n        \"description\": \"\"\n      }\n    },\n    {\n      \"column\": \"Name\",\n      \"properties\": {\n        \"dtype\": \"string\",\n        \"num_unique_values\": 5,\n        \"samples\": [\n          \"Cumings, Mrs. John Bradley (Florence Briggs Thayer)\",\n          \"Allen, Mr. William Henry\"\n        ],\n        \"semantic_type\": \"\",\n        \"description\": \"\"\n      }\n    },\n    {\n      \"column\": \"Sex\",\n      \"properties\": {\n        \"dtype\": \"category\",\n        \"num_unique_values\": 2,\n        \"samples\": [\n          \"female\",\n          \"male\"\n        ],\n        \"semantic_type\": \"\",\n        \"description\": \"\"\n      }\n    },\n    {\n      \"column\": \"Age\",\n      \"properties\": {\n        \"dtype\": \"number\",\n        \"std\": 6.833739825307955,\n        \"min\": 22.0,\n        \"max\": 38.0,\n        \"num_unique_values\": 4,\n        \"samples\": [\n          38.0,\n          35.0\n        ],\n        \"semantic_type\": \"\",\n        \"description\": \"\"\n      }\n    },\n    {\n      \"column\": \"SibSp\",\n      \"properties\": {\n        \"dtype\": \"number\",\n        \"std\": 0,\n        \"min\": 0,\n        \"max\": 1,\n        \"num_unique_values\": 2,\n        \"samples\": [\n          0,\n          1\n        ],\n        \"semantic_type\": \"\",\n        \"description\": \"\"\n      }\n    },\n    {\n      \"column\": \"Parch\",\n      \"properties\": {\n        \"dtype\": \"number\",\n        \"std\": 0,\n        \"min\": 0,\n        \"max\": 0,\n        \"num_unique_values\": 1,\n        \"samples\": [\n          0\n        ],\n        \"semantic_type\": \"\",\n        \"description\": \"\"\n      }\n    },\n    {\n      \"column\": \"Ticket\",\n      \"properties\": {\n        \"dtype\": \"string\",\n        \"num_unique_values\": 5,\n        \"samples\": [\n          \"PC 17599\"\n        ],\n        \"semantic_type\": \"\",\n        \"description\": \"\"\n      }\n    },\n    {\n      \"column\": \"Fare\",\n      \"properties\": {\n        \"dtype\": \"number\",\n        \"std\": 30.5100288352535,\n        \"min\": 7.25,\n        \"max\": 71.2833,\n        \"num_unique_values\": 5,\n        \"samples\": [\n          71.2833\n        ],\n        \"semantic_type\": \"\",\n        \"description\": \"\"\n      }\n    },\n    {\n      \"column\": \"Cabin\",\n      \"properties\": {\n        \"dtype\": \"category\",\n        \"num_unique_values\": 2,\n        \"samples\": [\n          \"C123\"\n        ],\n        \"semantic_type\": \"\",\n        \"description\": \"\"\n      }\n    },\n    {\n      \"column\": \"Embarked\",\n      \"properties\": {\n        \"dtype\": \"category\",\n        \"num_unique_values\": 2,\n        \"samples\": [\n          \"C\"\n        ],\n        \"semantic_type\": \"\",\n        \"description\": \"\"\n      }\n    }\n  ]\n}"
            }
          },
          "metadata": {},
          "execution_count": 1
        }
      ]
    },
    {
      "cell_type": "markdown",
      "metadata": {
        "id": "6cd87f50"
      },
      "source": [
        "The dataset referenced in this notebook is the **Titanic dataset**, a popular resource for learning data analysis and machine learning.\n",
        "\n",
        "**Dataset Details:**\n",
        "\n",
        "*   **Source:** Publicly available on platforms like Kaggle. The version used here is from: `https://raw.githubusercontent.com/datasciencedojo/datasets/master/titanic.csv`\n",
        "*   **Context:** Contains information about passengers aboard the RMS Titanic, which sank in 1912. A common task using this dataset is predicting passenger survival based on various features.\n",
        "\n",
        "**Key Columns:**\n",
        "\n",
        "| Column      | Description                                       |\n",
        "| :---------- | :------------------------------------------------ |\n",
        "| PassengerId | Unique identifier for each passenger              |\n",
        "| Survived    | Survival status (0 = No, 1 = Yes)                 |\n",
        "| Pclass      | Ticket class (1 = 1st, 2 = 2nd, 3 = 3rd)          |\n",
        "| Name        | Passenger's name                                  |\n",
        "| Sex         | Gender of the passenger                           |\n",
        "| Age         | Age in years                                      |\n",
        "| SibSp       | Number of siblings/spouses aboard                 |\n",
        "| Parch       | Number of parents/children aboard                 |\n",
        "| Ticket      | Ticket number                                     |\n",
        "| Fare        | Passenger fare (ticket price)                     |\n",
        "| Cabin       | Cabin number                                      |\n",
        "| Embarked    | Port of embarkation (C = Cherbourg, Q = Queenstown, S = Southampton) |"
      ]
    },
    {
      "cell_type": "code",
      "source": [
        "###INFO METHOD###\n",
        "\n",
        "\n",
        "row_count = len(df)\n",
        "print(f\"There are {row_count} rows in the data\")\n",
        "print(\"\")\n",
        "df.info()"
      ],
      "metadata": {
        "id": "rA871gu4espG",
        "colab": {
          "base_uri": "https://localhost:8080/"
        },
        "outputId": "795b30a3-9389-4d27-d5fa-05c8b2bfbfae"
      },
      "execution_count": 2,
      "outputs": [
        {
          "output_type": "stream",
          "name": "stdout",
          "text": [
            "There are 891 rows in the data\n",
            "\n",
            "<class 'pandas.core.frame.DataFrame'>\n",
            "RangeIndex: 891 entries, 0 to 890\n",
            "Data columns (total 12 columns):\n",
            " #   Column       Non-Null Count  Dtype  \n",
            "---  ------       --------------  -----  \n",
            " 0   PassengerId  891 non-null    int64  \n",
            " 1   Survived     891 non-null    int64  \n",
            " 2   Pclass       891 non-null    int64  \n",
            " 3   Name         891 non-null    object \n",
            " 4   Sex          891 non-null    object \n",
            " 5   Age          714 non-null    float64\n",
            " 6   SibSp        891 non-null    int64  \n",
            " 7   Parch        891 non-null    int64  \n",
            " 8   Ticket       891 non-null    object \n",
            " 9   Fare         891 non-null    float64\n",
            " 10  Cabin        204 non-null    object \n",
            " 11  Embarked     889 non-null    object \n",
            "dtypes: float64(2), int64(5), object(5)\n",
            "memory usage: 83.7+ KB\n"
          ]
        }
      ]
    },
    {
      "cell_type": "code",
      "source": [
        "###DESCRIBE METHOD###\n",
        "\n",
        "print(df.describe())"
      ],
      "metadata": {
        "id": "Z85N1AuHezdY",
        "colab": {
          "base_uri": "https://localhost:8080/"
        },
        "outputId": "d48b869c-724e-4777-9042-cbda69fcba12"
      },
      "execution_count": 3,
      "outputs": [
        {
          "output_type": "stream",
          "name": "stdout",
          "text": [
            "       PassengerId    Survived      Pclass         Age       SibSp  \\\n",
            "count   891.000000  891.000000  891.000000  714.000000  891.000000   \n",
            "mean    446.000000    0.383838    2.308642   29.699118    0.523008   \n",
            "std     257.353842    0.486592    0.836071   14.526497    1.102743   \n",
            "min       1.000000    0.000000    1.000000    0.420000    0.000000   \n",
            "25%     223.500000    0.000000    2.000000   20.125000    0.000000   \n",
            "50%     446.000000    0.000000    3.000000   28.000000    0.000000   \n",
            "75%     668.500000    1.000000    3.000000   38.000000    1.000000   \n",
            "max     891.000000    1.000000    3.000000   80.000000    8.000000   \n",
            "\n",
            "            Parch        Fare  \n",
            "count  891.000000  891.000000  \n",
            "mean     0.381594   32.204208  \n",
            "std      0.806057   49.693429  \n",
            "min      0.000000    0.000000  \n",
            "25%      0.000000    7.910400  \n",
            "50%      0.000000   14.454200  \n",
            "75%      0.000000   31.000000  \n",
            "max      6.000000  512.329200  \n"
          ]
        }
      ]
    },
    {
      "cell_type": "markdown",
      "source": [
        "##Data Cleaning Techniques"
      ],
      "metadata": {
        "id": "q8FzOA5rg_Pk"
      }
    },
    {
      "cell_type": "code",
      "source": [
        "# Check for duplicates\n",
        "num_dup_rows = df.duplicated().sum()\n",
        "print(f\"There are {num_dup_rows} duplicate rows in the data\")\n",
        "\n",
        "\n",
        "# Remove duplicates\n",
        "df.drop_duplicates(inplace=True)\n",
        "\n",
        "row_count = len(df)\n",
        "print(f\"There are {row_count} rows remained in the data\")\n",
        "print(\"\")\n",
        "df.info()"
      ],
      "metadata": {
        "id": "I4TFX81nirOO"
      },
      "execution_count": null,
      "outputs": []
    },
    {
      "cell_type": "code",
      "source": [
        "# Check for missing values\n",
        "print(df.isnull().sum())"
      ],
      "metadata": {
        "id": "RXgqvmUVhHRt"
      },
      "execution_count": null,
      "outputs": []
    },
    {
      "cell_type": "code",
      "source": [
        "# Fill missing values\n",
        "df['Age'].fillna(df['Age'].mean(), inplace=True)"
      ],
      "metadata": {
        "id": "dsQNjT_Dhe5M"
      },
      "execution_count": null,
      "outputs": []
    },
    {
      "cell_type": "code",
      "source": [
        "# Drop rows with missing values in 'Embarked'\n",
        "df.dropna(subset=['Embarked'], inplace=True)"
      ],
      "metadata": {
        "id": "3DNZ9vf_hfI5"
      },
      "execution_count": null,
      "outputs": []
    },
    {
      "cell_type": "code",
      "source": [
        "row_count = len(df)\n",
        "print(f\"There are {row_count} rows in the data\")\n",
        "print(\"\")\n",
        "df.info()"
      ],
      "metadata": {
        "id": "IBmBXPM1h6FU"
      },
      "execution_count": null,
      "outputs": []
    },
    {
      "cell_type": "code",
      "source": [
        "df['Sex'].unique()"
      ],
      "metadata": {
        "id": "JJVcxTOxlecM"
      },
      "execution_count": null,
      "outputs": []
    },
    {
      "cell_type": "code",
      "source": [
        "df['Sex'] = df['Sex'].str.lower()"
      ],
      "metadata": {
        "id": "YWc0MDfqj315"
      },
      "execution_count": null,
      "outputs": []
    },
    {
      "cell_type": "code",
      "source": [
        "df['Last_Name'] = df['Name'].str.extract(r'^([^,]+),')\n",
        "\n",
        "# Extract First Name (after title, before any parenthesis)\n",
        "# This regex finds the part after the title and period, then strips leading/trailing spaces and any parentheses\n",
        "df['First_Name'] = df['Name'].str.extract(r',\\s*[A-Za-z]+\\.\\s*(.*?)(\\(|$|\\n)')[0].str.strip()\n",
        "\n",
        "# Remove extra middle names if you want only the first given name:\n",
        "# df['First_Name'] = df['First_Name'].str.split().str[0]\n",
        "\n",
        "# Show the result\n",
        "print(df[['Name', 'Last_Name', 'First_Name']].head(10))"
      ],
      "metadata": {
        "id": "Gcxw0Y31j423"
      },
      "execution_count": null,
      "outputs": []
    },
    {
      "cell_type": "code",
      "source": [
        "#Check Updated Dataframe\n",
        "df.head(10)"
      ],
      "metadata": {
        "id": "hjmLLlqhmJNk"
      },
      "execution_count": null,
      "outputs": []
    },
    {
      "cell_type": "code",
      "source": [],
      "metadata": {
        "id": "aiCanTmjnATu"
      },
      "execution_count": null,
      "outputs": []
    },
    {
      "cell_type": "markdown",
      "source": [
        "##Data Visualization"
      ],
      "metadata": {
        "id": "66mZYoP6sttL"
      }
    },
    {
      "cell_type": "code",
      "source": [
        "import matplotlib.pyplot as plt\n",
        "import seaborn as sns\n",
        "\n",
        "# Plot age distribution\n",
        "plt.figure(figsize=(10,4))\n",
        "sns.histplot(df['Age'], bins=20)\n",
        "plt.title('Age Distribution')\n",
        "plt.xlabel('Age')\n",
        "plt.ylabel('Count')\n",
        "plt.show()\n",
        "\n",
        "print(\"\")\n",
        "# Survival rate by class\n",
        "sns.barplot(x='Pclass', y='Survived', data=df)\n",
        "plt.title('Survival Rate by Passenger Class')\n",
        "plt.show()\n",
        "\n",
        "print(\"\")\n",
        "survival_by_class = df.groupby('Pclass')['Survived'].mean()\n",
        "print(survival_by_class)\n"
      ],
      "metadata": {
        "id": "K6cux5BIsxqE"
      },
      "execution_count": null,
      "outputs": []
    },
    {
      "cell_type": "markdown",
      "source": [
        "##Real life Example Sale"
      ],
      "metadata": {
        "id": "ppTqcH7Zu9ws"
      }
    },
    {
      "cell_type": "code",
      "source": [
        "# For demonstration, let's use the Titanic dataset as \"sales data\"\n",
        "# Imagine 'Fare' as 'Sales Amount' and 'Pclass' as 'Product Category'\n",
        "\n",
        "# Clean data: Remove outliers in 'Fare'\n",
        "df = df[df['Fare'] < df['Fare'].quantile(0.99)]\n",
        "\n",
        "# Analyze top categories by average sales\n",
        "avg_sales_by_category = df.groupby('Pclass')['Fare'].mean()\n",
        "print(avg_sales_by_category)\n",
        "\n",
        "# Visualize\n",
        "sns.barplot(x=avg_sales_by_category.index, y=avg_sales_by_category.values)\n",
        "plt.title('Average Sales Amount by Product Category')\n",
        "plt.xlabel('Product Category')\n",
        "plt.ylabel('Average Sales')\n",
        "plt.show()"
      ],
      "metadata": {
        "id": "-hHM6rlhvB4A"
      },
      "execution_count": null,
      "outputs": []
    },
    {
      "cell_type": "code",
      "source": [
        "# For demonstration, let's use the Titanic dataset as \"sales data\"\n",
        "# Imagine 'Fare' as 'Sales Amount' and 'Pclass' as 'Product Category'\n",
        "\n",
        "# Clean data: Remove outliers in 'Fare'\n",
        "import numpy as np\n",
        "\n",
        "# Calculate 99th percentile\n",
        "fare_99 = df['Fare'].quantile(0.99)\n",
        "\n",
        "# Create a flag for outliers\n",
        "df['Fare_Outlier'] = df['Fare'] > fare_99\n",
        "\n",
        "# Plot all fares, highlighting outliers\n",
        "plt.figure(figsize=(10, 5))\n",
        "sns.scatterplot(x=range(len(df)), y='Fare', data=df, hue='Fare_Outlier', palette={False: 'blue', True: 'red'}, legend='brief')\n",
        "plt.title('Fare Values with Outliers Highlighted')\n",
        "plt.xlabel('Passenger Index')\n",
        "plt.ylabel('Fare')\n",
        "plt.legend(title='Outlier')\n",
        "plt.show()"
      ],
      "metadata": {
        "id": "Eq5Rlu6JvGjN"
      },
      "execution_count": null,
      "outputs": []
    },
    {
      "cell_type": "code",
      "source": [
        "avg_sales_by_category = df.groupby(['Sex'])['Fare'].mean()\n",
        "avg_sales_by_category"
      ],
      "metadata": {
        "id": "eR4M1ejAvxYp"
      },
      "execution_count": null,
      "outputs": []
    },
    {
      "cell_type": "code",
      "source": [
        "# Define bins and labels\n",
        "bins = [0, 12, 19, 35, 60, 120]\n",
        "labels = ['Child', 'Teen', 'Young Adult', 'Adult', 'Senior']\n",
        "\n",
        "# Create AgeGroup\n",
        "df['AgeGroup'] = pd.cut(df['Age'], bins=bins, labels=labels, right=True)\n",
        "\n",
        "# Group by Sex and AgeGroup, then calculate mean Fare\n",
        "avg_sales_by_category = df.groupby(['Sex', 'AgeGroup'])['Fare'].mean()\n",
        "avg_sales_by_category = avg_sales_by_category.reset_index()\n",
        "print(avg_sales_by_category)\n",
        "\n",
        "import seaborn as sns\n",
        "import matplotlib.pyplot as plt\n",
        "\n",
        "plt.figure(figsize=(8,5))\n",
        "sns.barplot(x='AgeGroup', y='Fare', hue='Sex', data=avg_sales_by_category)\n",
        "plt.title('Average Fare by Age Group and Sex')\n",
        "plt.ylabel('Average Fare')\n",
        "plt.xlabel('Age Group')\n",
        "plt.show()"
      ],
      "metadata": {
        "id": "pRY9Ahi5yXbV"
      },
      "execution_count": null,
      "outputs": []
    },
    {
      "cell_type": "code",
      "source": [
        "# For demonstration, let's use the Titanic dataset as \"sales data\"\n",
        "# Imagine 'Fare' as 'Sales Amount' and 'Pclass' as 'Product Category'\n",
        "\n",
        "# Clean data: Remove outliers in 'Fare'\n",
        "df = df[df['Fare'] < df['Fare'].quantile(0.99)]\n",
        "\n",
        "# Analyze top categories by average sales\n",
        "avg_sales_by_category = df.groupby('Pclass')['Fare'].mean()\n",
        "print(avg_sales_by_category)\n",
        "\n",
        "# Visualize\n",
        "sns.barplot(x=avg_sales_by_category.index, y=avg_sales_by_category.values)\n",
        "plt.title('Average Sales Amount by Product Category')\n",
        "plt.xlabel('Product Category')\n",
        "plt.ylabel('Average Sales')\n",
        "plt.show()\n"
      ],
      "metadata": {
        "id": "YnHC7ytTw9L_"
      },
      "execution_count": null,
      "outputs": []
    },
    {
      "cell_type": "code",
      "source": [
        "df"
      ],
      "metadata": {
        "id": "A4vn6p-Uyxd9"
      },
      "execution_count": null,
      "outputs": []
    }
  ]
}