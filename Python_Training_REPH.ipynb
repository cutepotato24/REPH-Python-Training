{
  "nbformat": 4,
  "nbformat_minor": 0,
  "metadata": {
    "colab": {
      "provenance": [],
      "authorship_tag": "ABX9TyOOeQaZZTX+2pb59f8PrzmP",
      "include_colab_link": true
    },
    "kernelspec": {
      "name": "python3",
      "display_name": "Python 3"
    },
    "language_info": {
      "name": "python"
    }
  },
  "cells": [
    {
      "cell_type": "markdown",
      "metadata": {
        "id": "view-in-github",
        "colab_type": "text"
      },
      "source": [
        "<a href=\"https://colab.research.google.com/github/cutepotato24/REPH-Python-Training/blob/main/Python_Training_REPH.ipynb\" target=\"_parent\"><img src=\"https://colab.research.google.com/assets/colab-badge.svg\" alt=\"Open In Colab\"/></a>"
      ]
    },
    {
      "cell_type": "markdown",
      "metadata": {
        "id": "4f0aad11"
      },
      "source": [
        "# Introduction to Python\n",
        "\n",
        "## What is Python?\n",
        "\n",
        "- High-level, interpreted programming language\n",
        "- Popular for its readability and wide range of applications\n",
        "\n",
        "## Why Use Python for Data Analysis?\n",
        "\n",
        "- Easy syntax\n",
        "- Large ecosystem (numpy, pandas, matplotlib, etc.)\n",
        "\n",
        "\n",
        "<br>\n",
        "<br>\n",
        "Here's a resource that explains how Python is used in conjunction with Markdown:\n",
        "\n",
        "[Using Markdown with Python](https://jupyter-notebook.readthedocs.io/en/stable/notebook.html#markdown-cells/)"
      ]
    },
    {
      "cell_type": "markdown",
      "source": [
        "#Python Basics"
      ],
      "metadata": {
        "id": "fcVRaPmd-rbm"
      }
    },
    {
      "cell_type": "markdown",
      "source": [
        "##0.Basic Input and Output"
      ],
      "metadata": {
        "id": "B_sadNfCOVd_"
      }
    },
    {
      "cell_type": "markdown",
      "source": [
        "Output: Displaying data to the user. Using print() function"
      ],
      "metadata": {
        "id": "LCezBe-0Ohxv"
      }
    },
    {
      "cell_type": "code",
      "source": [
        "print(\"Python for Data Analysis\")"
      ],
      "metadata": {
        "id": "p51Qag94OwF8"
      },
      "execution_count": null,
      "outputs": []
    },
    {
      "cell_type": "markdown",
      "source": [
        "Input: Getting data from the user. Using input() function"
      ],
      "metadata": {
        "id": "xoV6SfGzO43b"
      }
    },
    {
      "cell_type": "code",
      "source": [
        "name = input(\"Enter you name: \")\n",
        "print(\"Hello,\", name)"
      ],
      "metadata": {
        "id": "X1wrn8s5O9eL"
      },
      "execution_count": null,
      "outputs": []
    },
    {
      "cell_type": "markdown",
      "source": [
        "##1. Syntax and Variables\n",
        "\n",
        "###Syntax:\n",
        "The set of rules that defines the combinations of symbols that are considered to be correctly structured Python programs.\n",
        "<br>\n",
        "<br>\n",
        "\n",
        "###Variable:\n",
        "A variable is a name that refers to a value stored in the computer’s memory. Variables allow you to store, retrieve, and manipulate data in your program.\n"
      ],
      "metadata": {
        "id": "sV0kH-My-7bY"
      }
    },
    {
      "cell_type": "code",
      "source": [
        "# This is a comment\n",
        "# In Python, Variable's Data type is automatically recognized, no need to declare\n",
        "\n",
        "age = 5 ## This is stored as a number\n",
        "first_name = \"Alice\" ## This is stored as a text\n",
        "last_name = input(\"Input Last Nmame from User: \")  ##input is always stored as a test\n",
        "\n",
        "\n",
        "print(\"Her name is \",first_name,\" \", last_name)\n",
        "print(\"She is \",age,\" years old\")"
      ],
      "metadata": {
        "id": "UgUonq6P7D6J"
      },
      "execution_count": null,
      "outputs": []
    },
    {
      "cell_type": "markdown",
      "source": [
        "##2. Data Types:\n",
        "The classification of data items. Python has several built-in data types, including:\n",
        "\n",
        "- int (integer): Whole numbers, e.g., 5\n",
        "- float: Decimal numbers, e.g., 3.14\n",
        "- str (string): Text, e.g., \"hello\"\n",
        "- bool (boolean): True or False values\n"
      ],
      "metadata": {
        "id": "ndNDQ_N7Ayws"
      }
    },
    {
      "cell_type": "code",
      "source": [
        "a = 10      # int\n",
        "b = 3.14    # float\n",
        "c = \"hello\" # str\n",
        "d = True    # bool"
      ],
      "metadata": {
        "id": "ZTAcxYgCA-oz"
      },
      "execution_count": null,
      "outputs": []
    },
    {
      "cell_type": "markdown",
      "source": [
        "##3. Basic Operators\n",
        "A symbol that performs an operation on one or more values (operands).\n",
        "<br>\n",
        "<br>\n",
        "###Arithmetic Operators:\n",
        "Used for mathematical calculations.\n",
        "\n",
        "- x + y   &nbsp;&nbsp; Addition\n",
        "- x - y   &nbsp;&nbsp;&nbsp;Subtraction\n",
        "- x * y   &nbsp;&nbsp;&nbsp;Multiplication\n",
        "- x / y   &nbsp;&nbsp;&nbsp;&nbsp;Division\n",
        "- ** y    &nbsp;&nbsp;&nbsp;&nbsp;&nbsp;Exponentiation\n",
        "- x % y   &nbsp;&nbsp;&nbsp;Modulus (remainder)\n"
      ],
      "metadata": {
        "id": "J7hKZUxTCJ8Q"
      }
    },
    {
      "cell_type": "code",
      "source": [
        "x = 5\n",
        "y = 10\n",
        "\n",
        "a = x + y\n",
        "\n",
        "print(a)\n",
        "print(x + y)"
      ],
      "metadata": {
        "id": "vKL62QehCMF_"
      },
      "execution_count": null,
      "outputs": []
    },
    {
      "cell_type": "markdown",
      "source": [
        "###Comparison Operators:\n",
        "Compare two values and return a boolean result."
      ],
      "metadata": {
        "id": "gUM86PQ5CWU6"
      }
    },
    {
      "cell_type": "markdown",
      "source": [
        "- x == y  # Equal to\n",
        "- x != y  # Not equal to\n",
        "- x > y   # Greater than\n",
        "- x < y   # Less than"
      ],
      "metadata": {
        "id": "txKAy98oXVBk"
      }
    },
    {
      "cell_type": "code",
      "source": [
        "x = 5\n",
        "y = 10\n",
        "z = 5\n",
        "\n",
        "print(x == y)\n",
        "print(x == z)"
      ],
      "metadata": {
        "id": "fdRt6qiEXedM"
      },
      "execution_count": null,
      "outputs": []
    },
    {
      "cell_type": "markdown",
      "source": [
        "###Logical Operators:\n",
        "Combine boolean values.\n",
        "\n",
        " - x AND y\n",
        "- x OR y\n",
        "- NOT x"
      ],
      "metadata": {
        "id": "rqKPHG4kLhu4"
      }
    },
    {
      "cell_type": "code",
      "source": [
        "x = 5\n",
        "y = 25\n",
        "\n",
        "if x > 0 and y < 20:\n",
        "    print(\"x is positive and y is less than 20\")\n",
        "else:\n",
        "    print(\"Condition not satisfied\")\n"
      ],
      "metadata": {
        "id": "OnYfCdpSYPI5"
      },
      "execution_count": null,
      "outputs": []
    },
    {
      "cell_type": "markdown",
      "source": [
        "##4. Data Structures\n",
        "\n",
        "A way of organizing and storing data so it can be accessed and modified efficiently."
      ],
      "metadata": {
        "id": "SvI6Tuc4L4FQ"
      }
    },
    {
      "cell_type": "markdown",
      "source": [
        "List: An ordered, mutable collection of items."
      ],
      "metadata": {
        "id": "x1rT2VsdL_OW"
      }
    },
    {
      "cell_type": "code",
      "source": [
        "fruits = [\"apple\", \"banana\", \"cherry\"]"
      ],
      "metadata": {
        "id": "bdG0fUU8MBgb"
      },
      "execution_count": null,
      "outputs": []
    },
    {
      "cell_type": "markdown",
      "source": [
        "Tuple: An ordered, immutable collection of items."
      ],
      "metadata": {
        "id": "-eS_WqHJML45"
      }
    },
    {
      "cell_type": "code",
      "source": [
        "point = (3, 4)"
      ],
      "metadata": {
        "id": "gd8eMvDeMN6z"
      },
      "execution_count": null,
      "outputs": []
    },
    {
      "cell_type": "markdown",
      "source": [
        "Set: An unordered collection of unique items."
      ],
      "metadata": {
        "id": "QRj_MZDnMmeO"
      }
    },
    {
      "cell_type": "code",
      "source": [
        "unique_numbers = {1, 2, 3}"
      ],
      "metadata": {
        "id": "SOgbPi0UMn_q"
      },
      "execution_count": null,
      "outputs": []
    },
    {
      "cell_type": "markdown",
      "source": [
        "Dictionary: An unordered collection of key-value pairs.\n"
      ],
      "metadata": {
        "id": "PC-eoNm4MEYW"
      }
    },
    {
      "cell_type": "code",
      "source": [
        "person = {\"name\": \"Alice\", \"age\": 25}"
      ],
      "metadata": {
        "id": "J-dgiqxtMd_R"
      },
      "execution_count": null,
      "outputs": []
    },
    {
      "cell_type": "markdown",
      "source": [
        "##5. Control Flow\n",
        "\n",
        "The order in which individual statements, instructions, or function calls are executed or evaluated."
      ],
      "metadata": {
        "id": "HsQdSjbOPz20"
      }
    },
    {
      "cell_type": "markdown",
      "source": [
        "### IF Statement:  \n",
        "Allows you to execute code only if a certain condition is true."
      ],
      "metadata": {
        "id": "yqw0QwVpP268"
      }
    },
    {
      "cell_type": "code",
      "source": [
        "# Example of an IF statement\n",
        "age = 13\n",
        "\n",
        "if age >= 18:\n",
        "    print(\"You are an adult.\")\n",
        "else:\n",
        "    print(\"You are a minor.\")"
      ],
      "metadata": {
        "id": "FWQbC9hcQCck"
      },
      "execution_count": null,
      "outputs": []
    },
    {
      "cell_type": "markdown",
      "source": [
        "###For Loop:\n",
        "Used to iterate over a sequence (such as a list, tuple, or string)."
      ],
      "metadata": {
        "id": "cJ6OehnSY6no"
      }
    },
    {
      "cell_type": "code",
      "source": [
        "fruits = [\"apple\", \"banana\", \"cherry\"]\n",
        "\n",
        "for fruit in fruits:\n",
        "    print(fruit)"
      ],
      "metadata": {
        "id": "dr6HqNsGZCLP"
      },
      "execution_count": null,
      "outputs": []
    },
    {
      "cell_type": "markdown",
      "source": [
        "###While Loop:\n",
        "Repeats a block of code as long as a condition is true."
      ],
      "metadata": {
        "id": "LnVSTtJsZac8"
      }
    },
    {
      "cell_type": "code",
      "source": [
        "count = 0\n",
        "while count < 5:\n",
        "    print(count)\n",
        "    count += 1"
      ],
      "metadata": {
        "id": "vD8_8FVAZc01"
      },
      "execution_count": null,
      "outputs": []
    },
    {
      "cell_type": "markdown",
      "source": [
        "###"
      ],
      "metadata": {
        "id": "YJlB9v77ZSu5"
      }
    },
    {
      "cell_type": "markdown",
      "source": [
        "##6. Function:\n",
        "A block of reusable code that performs a specific task. Functions help organize code and avoid repetition.\n",
        "\n",
        "Return Statement:\n",
        "<br>\n",
        "Used to send a result back from a function to the caller."
      ],
      "metadata": {
        "id": "Bp6vLN4qZybg"
      }
    },
    {
      "cell_type": "code",
      "source": [
        "def greet(name):\n",
        "    print(\"Hello, \" + name)\n",
        "greet(\"Alice\")"
      ],
      "metadata": {
        "id": "oKQXnz5MZ3uJ"
      },
      "execution_count": null,
      "outputs": []
    },
    {
      "cell_type": "code",
      "source": [
        "def add_numbers(a, b):\n",
        "    return a + b\n",
        "\n",
        "# Example usage:\n",
        "result = add_numbers(5, 3)\n",
        "print(\"The sum is:\", result)"
      ],
      "metadata": {
        "id": "B-VAr1sdaCAb"
      },
      "execution_count": null,
      "outputs": []
    },
    {
      "cell_type": "code",
      "source": [
        "# Define a simple function\n",
        "def square(number):\n",
        "  return number * number\n",
        "\n",
        "# Use a for loop to call the function for each item in a list\n",
        "numbers = [1, 2, 3, 4, 5]\n",
        "for num in numbers:\n",
        "  squared_num = square(num)\n",
        "  print(f\"The square of {num} is {squared_num}\")"
      ],
      "metadata": {
        "id": "GFrR27lHa4Kh"
      },
      "execution_count": null,
      "outputs": []
    },
    {
      "cell_type": "markdown",
      "source": [
        "##7. Importing Modules\n",
        "###Module:\n",
        "A file containing Python code (functions, classes, variables) that can be imported and used in other programs.\n",
        "\n",
        "###Import Statement:\n",
        "Used to bring modules and their functions into your program."
      ],
      "metadata": {
        "id": "uB2vsx65cPZo"
      }
    },
    {
      "cell_type": "code",
      "source": [
        "\n",
        "import math\n",
        "import numpy as np\n",
        "\n",
        "print(math.sqrt(16))\n",
        "print(np.sum([1,2,3,4,5]))\n"
      ],
      "metadata": {
        "id": "r7XVyGXzcfap"
      },
      "execution_count": null,
      "outputs": []
    },
    {
      "cell_type": "markdown",
      "source": [
        "# Python for Data Cleaning and Data Analysis"
      ],
      "metadata": {
        "id": "QjK7MGLldB5S"
      }
    },
    {
      "cell_type": "markdown",
      "source": [
        "##Importing and Exploring your data sets"
      ],
      "metadata": {
        "id": "6WzVgbYBdGis"
      }
    },
    {
      "cell_type": "code",
      "source": [
        "import pandas as pd\n",
        "\n",
        "# Import dataset\n",
        "url = \"https://raw.githubusercontent.com/datasciencedojo/datasets/master/titanic.csv\"\n",
        "df = pd.read_csv(url)\n",
        "df.head(5)\n",
        "# Explore the data\n",
        "#print(df.head())\n"
      ],
      "metadata": {
        "collapsed": true,
        "id": "PPTWEOn_ejYB"
      },
      "execution_count": null,
      "outputs": []
    },
    {
      "cell_type": "markdown",
      "metadata": {
        "id": "6cd87f50"
      },
      "source": [
        "The dataset referenced in this notebook is the **Titanic dataset**, a popular resource for learning data analysis and machine learning.\n",
        "\n",
        "**Dataset Details:**\n",
        "\n",
        "*   **Source:** Publicly available on platforms like Kaggle. The version used here is from: `https://raw.githubusercontent.com/datasciencedojo/datasets/master/titanic.csv`\n",
        "*   **Context:** Contains information about passengers aboard the RMS Titanic, which sank in 1912. A common task using this dataset is predicting passenger survival based on various features.\n",
        "\n",
        "**Key Columns:**\n",
        "\n",
        "| Column      | Description                                       |\n",
        "| :---------- | :------------------------------------------------ |\n",
        "| PassengerId | Unique identifier for each passenger              |\n",
        "| Survived    | Survival status (0 = No, 1 = Yes)                 |\n",
        "| Pclass      | Ticket class (1 = 1st, 2 = 2nd, 3 = 3rd)          |\n",
        "| Name        | Passenger's name                                  |\n",
        "| Sex         | Gender of the passenger                           |\n",
        "| Age         | Age in years                                      |\n",
        "| SibSp       | Number of siblings/spouses aboard                 |\n",
        "| Parch       | Number of parents/children aboard                 |\n",
        "| Ticket      | Ticket number                                     |\n",
        "| Fare        | Passenger fare (ticket price)                     |\n",
        "| Cabin       | Cabin number                                      |\n",
        "| Embarked    | Port of embarkation (C = Cherbourg, Q = Queenstown, S = Southampton) |"
      ]
    },
    {
      "cell_type": "code",
      "source": [
        "row_count = len(df)\n",
        "print(f\"There are {row_count} rows in the data\")\n",
        "print(\"\")\n",
        "df.info()"
      ],
      "metadata": {
        "id": "rA871gu4espG"
      },
      "execution_count": null,
      "outputs": []
    },
    {
      "cell_type": "code",
      "source": [
        "print(df.describe())"
      ],
      "metadata": {
        "id": "Z85N1AuHezdY"
      },
      "execution_count": null,
      "outputs": []
    },
    {
      "cell_type": "markdown",
      "source": [
        "##Data Cleaning Techniques"
      ],
      "metadata": {
        "id": "q8FzOA5rg_Pk"
      }
    },
    {
      "cell_type": "code",
      "source": [
        "# Check for duplicates\n",
        "num_dup_rows = df.duplicated().sum()\n",
        "print(f\"There are {num_dup_rows} duplicate rows in the data\")\n",
        "\n",
        "\n",
        "# Remove duplicates\n",
        "df.drop_duplicates(inplace=True)\n",
        "\n",
        "row_count = len(df)\n",
        "print(f\"There are {row_count} rows remained in the data\")\n",
        "print(\"\")\n",
        "df.info()"
      ],
      "metadata": {
        "id": "I4TFX81nirOO"
      },
      "execution_count": null,
      "outputs": []
    },
    {
      "cell_type": "code",
      "source": [
        "# Check for missing values\n",
        "print(df.isnull().sum())"
      ],
      "metadata": {
        "id": "RXgqvmUVhHRt"
      },
      "execution_count": null,
      "outputs": []
    },
    {
      "cell_type": "code",
      "source": [
        "# Fill missing values\n",
        "df['Age'].fillna(df['Age'].mean(), inplace=True)"
      ],
      "metadata": {
        "id": "dsQNjT_Dhe5M"
      },
      "execution_count": null,
      "outputs": []
    },
    {
      "cell_type": "code",
      "source": [
        "# Drop rows with missing values in 'Embarked'\n",
        "df.dropna(subset=['Embarked'], inplace=True)"
      ],
      "metadata": {
        "id": "3DNZ9vf_hfI5"
      },
      "execution_count": null,
      "outputs": []
    },
    {
      "cell_type": "code",
      "source": [
        "row_count = len(df)\n",
        "print(f\"There are {row_count} rows in the data\")\n",
        "print(\"\")\n",
        "df.info()"
      ],
      "metadata": {
        "id": "IBmBXPM1h6FU"
      },
      "execution_count": null,
      "outputs": []
    },
    {
      "cell_type": "code",
      "source": [
        "df['Sex'].unique()"
      ],
      "metadata": {
        "id": "JJVcxTOxlecM"
      },
      "execution_count": null,
      "outputs": []
    },
    {
      "cell_type": "code",
      "source": [
        "df['Sex'] = df['Sex'].str.lower()"
      ],
      "metadata": {
        "id": "YWc0MDfqj315"
      },
      "execution_count": null,
      "outputs": []
    },
    {
      "cell_type": "code",
      "source": [
        "df['Last_Name'] = df['Name'].str.extract(r'^([^,]+),')\n",
        "\n",
        "# Extract First Name (after title, before any parenthesis)\n",
        "# This regex finds the part after the title and period, then strips leading/trailing spaces and any parentheses\n",
        "df['First_Name'] = df['Name'].str.extract(r',\\s*[A-Za-z]+\\.\\s*(.*?)(\\(|$|\\n)')[0].str.strip()\n",
        "\n",
        "# Remove extra middle names if you want only the first given name:\n",
        "# df['First_Name'] = df['First_Name'].str.split().str[0]\n",
        "\n",
        "# Show the result\n",
        "print(df[['Name', 'Last_Name', 'First_Name']].head(10))"
      ],
      "metadata": {
        "id": "Gcxw0Y31j423"
      },
      "execution_count": null,
      "outputs": []
    },
    {
      "cell_type": "code",
      "source": [
        "#Check Updated Dataframe\n",
        "df.head(10)"
      ],
      "metadata": {
        "id": "hjmLLlqhmJNk"
      },
      "execution_count": null,
      "outputs": []
    },
    {
      "cell_type": "code",
      "source": [],
      "metadata": {
        "id": "aiCanTmjnATu"
      },
      "execution_count": null,
      "outputs": []
    },
    {
      "cell_type": "markdown",
      "source": [
        "##Data Visualization"
      ],
      "metadata": {
        "id": "66mZYoP6sttL"
      }
    },
    {
      "cell_type": "code",
      "source": [
        "import matplotlib.pyplot as plt\n",
        "import seaborn as sns\n",
        "\n",
        "# Plot age distribution\n",
        "plt.figure(figsize=(10,4))\n",
        "sns.histplot(df['Age'], bins=20)\n",
        "plt.title('Age Distribution')\n",
        "plt.xlabel('Age')\n",
        "plt.ylabel('Count')\n",
        "plt.show()\n",
        "\n",
        "print(\"\")\n",
        "# Survival rate by class\n",
        "sns.barplot(x='Pclass', y='Survived', data=df)\n",
        "plt.title('Survival Rate by Passenger Class')\n",
        "plt.show()\n",
        "\n",
        "print(\"\")\n",
        "survival_by_class = df.groupby('Pclass')['Survived'].mean()\n",
        "print(survival_by_class)\n"
      ],
      "metadata": {
        "id": "K6cux5BIsxqE"
      },
      "execution_count": null,
      "outputs": []
    },
    {
      "cell_type": "markdown",
      "source": [
        "##Real life Example Sale"
      ],
      "metadata": {
        "id": "ppTqcH7Zu9ws"
      }
    },
    {
      "cell_type": "code",
      "source": [
        "# For demonstration, let's use the Titanic dataset as \"sales data\"\n",
        "# Imagine 'Fare' as 'Sales Amount' and 'Pclass' as 'Product Category'\n",
        "\n",
        "# Clean data: Remove outliers in 'Fare'\n",
        "df = df[df['Fare'] < df['Fare'].quantile(0.99)]\n",
        "\n",
        "# Analyze top categories by average sales\n",
        "avg_sales_by_category = df.groupby('Pclass')['Fare'].mean()\n",
        "print(avg_sales_by_category)\n",
        "\n",
        "# Visualize\n",
        "sns.barplot(x=avg_sales_by_category.index, y=avg_sales_by_category.values)\n",
        "plt.title('Average Sales Amount by Product Category')\n",
        "plt.xlabel('Product Category')\n",
        "plt.ylabel('Average Sales')\n",
        "plt.show()"
      ],
      "metadata": {
        "id": "-hHM6rlhvB4A"
      },
      "execution_count": null,
      "outputs": []
    },
    {
      "cell_type": "code",
      "source": [
        "# For demonstration, let's use the Titanic dataset as \"sales data\"\n",
        "# Imagine 'Fare' as 'Sales Amount' and 'Pclass' as 'Product Category'\n",
        "\n",
        "# Clean data: Remove outliers in 'Fare'\n",
        "import numpy as np\n",
        "\n",
        "# Calculate 99th percentile\n",
        "fare_99 = df['Fare'].quantile(0.99)\n",
        "\n",
        "# Create a flag for outliers\n",
        "df['Fare_Outlier'] = df['Fare'] > fare_99\n",
        "\n",
        "# Plot all fares, highlighting outliers\n",
        "plt.figure(figsize=(10, 5))\n",
        "sns.scatterplot(x=range(len(df)), y='Fare', data=df, hue='Fare_Outlier', palette={False: 'blue', True: 'red'}, legend='brief')\n",
        "plt.title('Fare Values with Outliers Highlighted')\n",
        "plt.xlabel('Passenger Index')\n",
        "plt.ylabel('Fare')\n",
        "plt.legend(title='Outlier')\n",
        "plt.show()"
      ],
      "metadata": {
        "id": "Eq5Rlu6JvGjN"
      },
      "execution_count": null,
      "outputs": []
    },
    {
      "cell_type": "code",
      "source": [
        "avg_sales_by_category = df.groupby(['Sex'])['Fare'].mean()\n",
        "avg_sales_by_category"
      ],
      "metadata": {
        "id": "eR4M1ejAvxYp"
      },
      "execution_count": null,
      "outputs": []
    },
    {
      "cell_type": "code",
      "source": [
        "# Define bins and labels\n",
        "bins = [0, 12, 19, 35, 60, 120]\n",
        "labels = ['Child', 'Teen', 'Young Adult', 'Adult', 'Senior']\n",
        "\n",
        "# Create AgeGroup\n",
        "df['AgeGroup'] = pd.cut(df['Age'], bins=bins, labels=labels, right=True)\n",
        "\n",
        "# Group by Sex and AgeGroup, then calculate mean Fare\n",
        "avg_sales_by_category = df.groupby(['Sex', 'AgeGroup'])['Fare'].mean()\n",
        "avg_sales_by_category = avg_sales_by_category.reset_index()\n",
        "print(avg_sales_by_category)\n",
        "\n",
        "import seaborn as sns\n",
        "import matplotlib.pyplot as plt\n",
        "\n",
        "plt.figure(figsize=(8,5))\n",
        "sns.barplot(x='AgeGroup', y='Fare', hue='Sex', data=avg_sales_by_category)\n",
        "plt.title('Average Fare by Age Group and Sex')\n",
        "plt.ylabel('Average Fare')\n",
        "plt.xlabel('Age Group')\n",
        "plt.show()"
      ],
      "metadata": {
        "id": "pRY9Ahi5yXbV"
      },
      "execution_count": null,
      "outputs": []
    },
    {
      "cell_type": "code",
      "source": [
        "# For demonstration, let's use the Titanic dataset as \"sales data\"\n",
        "# Imagine 'Fare' as 'Sales Amount' and 'Pclass' as 'Product Category'\n",
        "\n",
        "# Clean data: Remove outliers in 'Fare'\n",
        "df = df[df['Fare'] < df['Fare'].quantile(0.99)]\n",
        "\n",
        "# Analyze top categories by average sales\n",
        "avg_sales_by_category = df.groupby('Pclass')['Fare'].mean()\n",
        "print(avg_sales_by_category)\n",
        "\n",
        "# Visualize\n",
        "sns.barplot(x=avg_sales_by_category.index, y=avg_sales_by_category.values)\n",
        "plt.title('Average Sales Amount by Product Category')\n",
        "plt.xlabel('Product Category')\n",
        "plt.ylabel('Average Sales')\n",
        "plt.show()\n"
      ],
      "metadata": {
        "id": "YnHC7ytTw9L_"
      },
      "execution_count": null,
      "outputs": []
    },
    {
      "cell_type": "code",
      "source": [
        "df"
      ],
      "metadata": {
        "id": "A4vn6p-Uyxd9"
      },
      "execution_count": null,
      "outputs": []
    }
  ]
}